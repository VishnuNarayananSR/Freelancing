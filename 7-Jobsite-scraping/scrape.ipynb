{
 "cells": [
  {
   "cell_type": "markdown",
   "metadata": {},
   "source": [
    "### Select cell below and hit ctrl + enter (⌘  + enter in mac) to run it."
   ]
  },
  {
   "cell_type": "code",
   "execution_count": 1,
   "metadata": {
    "scrolled": true
   },
   "outputs": [
    {
     "name": "stdout",
     "output_type": "stream",
     "text": [
      "Enter job title to search for: web dev\n",
      "Enter job location: uk\n",
      "Posted withtin:\n",
      "    1. Last 24 hours\n",
      "    2. Last 3 days\n",
      "    3. Last 7 days\n",
      "    4. Last 14 days\n",
      "    0. All\n",
      " 4\n",
      "Job Type:\n",
      "    1. Permanent\n",
      "    2. Contract\n",
      "    3. Temporary\n",
      "    4. Part Time\n",
      "    0. All\n",
      "0\n",
      " Salary:\n",
      "    1. at least £10,000 \n",
      "    2. at least £20,000 \n",
      "    3. at least £30,000 \n",
      "    4. at least £40,000 \n",
      "    5. at least £50,000 \n",
      "    6. at least £60,000 \n",
      "    7. at least £70,000 \n",
      "    8. at least £80,000 \n",
      "    9. at least £90,000 \n",
      "    10. at least £100,000\n",
      "    0. All\n",
      "    7\n",
      "Enter number of jobs to be scraped from each site:5\n"
     ]
    },
    {
     "name": "stderr",
     "output_type": "stream",
     "text": [
      "[WDM] - ====== WebDriver manager ======\n",
      "[WDM] - Current google-chrome version is 89.0.4389\n",
      "[WDM] - Get LATEST driver version for 89.0.4389\n"
     ]
    },
    {
     "name": "stdout",
     "output_type": "stream",
     "text": [
      "\n",
      "\n"
     ]
    },
    {
     "name": "stderr",
     "output_type": "stream",
     "text": [
      "[WDM] - Driver [/home/VNSR/.wdm/drivers/chromedriver/linux64/89.0.4389.23/chromedriver] found in cache\n"
     ]
    },
    {
     "name": "stdout",
     "output_type": "stream",
     "text": [
      "fetching from site: https://www.cwjobs.co.uk\n",
      "done\n",
      "fetching from site: https://www.totaljobs.com\n",
      "done\n",
      "fetching from site: https://www.jobsite.co.uk/\n",
      "done\n",
      "fetching from site: https://www.cityjobs.com/\n",
      "No search result found\n",
      "done\n",
      "fetching from site: https://www.efinancialcareers.com/search/?q=web dev&location=uk&page=1&pageSize=100&filters.postedDate=SEVEN&filters.positionType=CONTRACT%7CPERMANENT%7CTEMPORARY%7CINTERNSHIPS_AND_GRADUATE_TRAINEE&filters.salaryBand=SECOND_TIER\n",
      "No search result found\n",
      "done\n",
      "fetching from site: https://uk.indeed.com/jobs?q=web dev+£70000&l=uk&fromage=14\n",
      "done\n"
     ]
    }
   ],
   "source": [
    "%run script.py"
   ]
  },
  {
   "cell_type": "markdown",
   "metadata": {},
   "source": [
    "#### The output file should have appeared on the project folder now. To view it here itself run the cells below."
   ]
  },
  {
   "cell_type": "code",
   "execution_count": 2,
   "metadata": {},
   "outputs": [],
   "source": [
    "import pandas as pd\n",
    "import os"
   ]
  },
  {
   "cell_type": "markdown",
   "metadata": {},
   "source": [
    "### CWJOBS"
   ]
  },
  {
   "cell_type": "code",
   "execution_count": null,
   "metadata": {},
   "outputs": [],
   "source": [
    "pd.read_excel(os.listdir('.')[-5], sheet_name ='cw')"
   ]
  },
  {
   "cell_type": "markdown",
   "metadata": {},
   "source": [
    "### TotalJobs"
   ]
  },
  {
   "cell_type": "code",
   "execution_count": null,
   "metadata": {},
   "outputs": [],
   "source": [
    "pd.read_excel(os.listdir('.')[-5], sheet_name ='total')"
   ]
  },
  {
   "cell_type": "markdown",
   "metadata": {},
   "source": [
    "### Jobsite"
   ]
  },
  {
   "cell_type": "code",
   "execution_count": null,
   "metadata": {},
   "outputs": [],
   "source": [
    "pd.read_excel(os.listdir('.')[-5], sheet_name ='jobsite')"
   ]
  },
  {
   "cell_type": "markdown",
   "metadata": {},
   "source": [
    "### CityJobs"
   ]
  },
  {
   "cell_type": "code",
   "execution_count": null,
   "metadata": {},
   "outputs": [],
   "source": [
    "pd.read_excel(os.listdir('.')[-5], sheet_name ='city')"
   ]
  },
  {
   "cell_type": "markdown",
   "metadata": {},
   "source": [
    "### efinancialcareers"
   ]
  },
  {
   "cell_type": "code",
   "execution_count": null,
   "metadata": {},
   "outputs": [],
   "source": [
    "pd.read_excel(os.listdir('.')[-5], sheet_name ='efinancialcareers')"
   ]
  },
  {
   "cell_type": "markdown",
   "metadata": {},
   "source": [
    "### Indeed"
   ]
  },
  {
   "cell_type": "code",
   "execution_count": 3,
   "metadata": {},
   "outputs": [
    {
     "data": {
      "text/html": [
       "<div>\n",
       "<style scoped>\n",
       "    .dataframe tbody tr th:only-of-type {\n",
       "        vertical-align: middle;\n",
       "    }\n",
       "\n",
       "    .dataframe tbody tr th {\n",
       "        vertical-align: top;\n",
       "    }\n",
       "\n",
       "    .dataframe thead th {\n",
       "        text-align: right;\n",
       "    }\n",
       "</style>\n",
       "<table border=\"1\" class=\"dataframe\">\n",
       "  <thead>\n",
       "    <tr style=\"text-align: right;\">\n",
       "      <th></th>\n",
       "      <th>Job Title</th>\n",
       "      <th>Salary</th>\n",
       "      <th>Location</th>\n",
       "      <th>Post Date</th>\n",
       "      <th>Type</th>\n",
       "      <th>Intro</th>\n",
       "    </tr>\n",
       "  </thead>\n",
       "  <tbody>\n",
       "    <tr>\n",
       "      <th>0</th>\n",
       "      <td>Front-End Developer</td>\n",
       "      <td>£600 a day</td>\n",
       "      <td>Home Based</td>\n",
       "      <td>1 day ago</td>\n",
       "      <td>NaN</td>\n",
       "      <td>Front-End React Developers needed on a contrac...</td>\n",
       "    </tr>\n",
       "    <tr>\n",
       "      <th>1</th>\n",
       "      <td>Senior Frontend Dev</td>\n",
       "      <td>£70,000 - £90,000 a year</td>\n",
       "      <td>London</td>\n",
       "      <td>5 days ago</td>\n",
       "      <td>NaN</td>\n",
       "      <td>We're looking for a Senior Front-End Developer...</td>\n",
       "    </tr>\n",
       "    <tr>\n",
       "      <th>2</th>\n",
       "      <td>Web Developer JavaScript React WebRTC</td>\n",
       "      <td>£75,000 - £90,000 a year</td>\n",
       "      <td>London</td>\n",
       "      <td>4 days ago</td>\n",
       "      <td>NaN</td>\n",
       "      <td>Web Developer / Full Stack Engineer (JavaScrip...</td>\n",
       "    </tr>\n",
       "    <tr>\n",
       "      <th>3</th>\n",
       "      <td>Front End Developer, React</td>\n",
       "      <td>£300 - £400 a day</td>\n",
       "      <td>Nottingham</td>\n",
       "      <td>4 days ago</td>\n",
       "      <td>NaN</td>\n",
       "      <td>Front End Developer | React | 6 Months | OUTSI...</td>\n",
       "    </tr>\n",
       "    <tr>\n",
       "      <th>4</th>\n",
       "      <td>Frontend Developer - Typescript</td>\n",
       "      <td>£400 - £410 a day</td>\n",
       "      <td>Greater Manchester</td>\n",
       "      <td>11 days ago</td>\n",
       "      <td>NaN</td>\n",
       "      <td>This is a fantastic opportunity to work with a...</td>\n",
       "    </tr>\n",
       "  </tbody>\n",
       "</table>\n",
       "</div>"
      ],
      "text/plain": [
       "                               Job Title                    Salary  \\\n",
       "0                    Front-End Developer                £600 a day   \n",
       "1                    Senior Frontend Dev  £70,000 - £90,000 a year   \n",
       "2  Web Developer JavaScript React WebRTC  £75,000 - £90,000 a year   \n",
       "3             Front End Developer, React         £300 - £400 a day   \n",
       "4        Frontend Developer - Typescript         £400 - £410 a day   \n",
       "\n",
       "             Location    Post Date  Type  \\\n",
       "0          Home Based    1 day ago   NaN   \n",
       "1              London   5 days ago   NaN   \n",
       "2              London   4 days ago   NaN   \n",
       "3          Nottingham   4 days ago   NaN   \n",
       "4  Greater Manchester  11 days ago   NaN   \n",
       "\n",
       "                                               Intro  \n",
       "0  Front-End React Developers needed on a contrac...  \n",
       "1  We're looking for a Senior Front-End Developer...  \n",
       "2  Web Developer / Full Stack Engineer (JavaScrip...  \n",
       "3  Front End Developer | React | 6 Months | OUTSI...  \n",
       "4  This is a fantastic opportunity to work with a...  "
      ]
     },
     "execution_count": 3,
     "metadata": {},
     "output_type": "execute_result"
    }
   ],
   "source": [
    "pd.read_excel(os.listdir('.')[-5], sheet_name ='indeed')"
   ]
  },
  {
   "cell_type": "code",
   "execution_count": null,
   "metadata": {},
   "outputs": [],
   "source": []
  }
 ],
 "metadata": {
  "kernelspec": {
   "display_name": "Python 3",
   "language": "python",
   "name": "python3"
  },
  "language_info": {
   "codemirror_mode": {
    "name": "ipython",
    "version": 3
   },
   "file_extension": ".py",
   "mimetype": "text/x-python",
   "name": "python",
   "nbconvert_exporter": "python",
   "pygments_lexer": "ipython3",
   "version": "3.8.5"
  }
 },
 "nbformat": 4,
 "nbformat_minor": 4
}
