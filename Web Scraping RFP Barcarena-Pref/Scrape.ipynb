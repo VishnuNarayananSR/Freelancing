{
 "cells": [
  {
   "cell_type": "code",
   "execution_count": null,
   "metadata": {},
   "outputs": [],
   "source": [
    "from bs4 import BeautifulSoup\n",
    "import requests\n",
    "import argparse\n",
    "import csv\n",
    "import concurrent.futures"
   ]
  },
  {
   "cell_type": "code",
   "execution_count": null,
   "metadata": {},
   "outputs": [],
   "source": [
    "def prepare_soup(url):\n",
    "    headers = {'User-Agent': 'Mozilla/5.0 (X11; Ubuntu; Linux x86_64; rv:52.0) Gecko/20100101 Firefox/52.0'}\n",
    "    try:\n",
    "        response =  requests.get(url, headers=headers)\n",
    "        response.raise_for_status()\n",
    "        soup = BeautifulSoup(response.text, \"html.parser\")\n",
    "        return soup\n",
    "    except HTTPError as http_err:\n",
    "        print(f'HTTP error occurred: {http_err}')\n",
    "        exit()\n",
    "    except Exception as e:\n",
    "        print(f'Something went wrong...Error: {e}') \n",
    "            exit()"
   ]
  },
  {
   "cell_type": "code",
   "execution_count": 1,
   "metadata": {},
   "outputs": [],
   "source": [
    "def write_table(table, filename, mode, cell_val=[], link=[]):\n",
    "    with open(filename, mode, encoding='utf-8') as f:\n",
    "        writer = csv.writer(f)\n",
    "        for tr in table.findAll('tr')[1:]:\n",
    "            row  = []\n",
    "            for data in tr.findAll(['th', 'td']):\n",
    "                row.append(data.get_text())\n",
    "            writer.writerow(row)\n",
    "\n",
    "def write_list(ul, writer, cell_val, link):\n",
    "    string = str(ul.text).replace(\"\\n\", \" | \")\n",
    "    writer.writerow([cell_val, link, string])"
   ]
  },
  {
   "cell_type": "markdown",
   "metadata": {},
   "source": [
    "# Main"
   ]
  },
  {
   "cell_type": "code",
   "execution_count": 5,
   "metadata": {},
   "outputs": [],
   "source": [
    "# url = \"http://www.governotransparente.com.br/transparencia/4382489/consultarliqdesporc/resultado?ano=8&inicio=01%2F01%2F2021&fim=24%2F01%2F2021&orgao=-1&elem=-1&unid=-1&valormax=&valormin=&credor=-1&clean=false\"\n",
    "# name = \"consultarliqdesporc\""
   ]
  },
  {
   "cell_type": "code",
   "execution_count": 6,
   "metadata": {},
   "outputs": [],
   "source": [
    "if __name__ == '__main__':\n",
    "    parser = argparse.ArgumentParser()\n",
    "    parser.add_argument('name', type=str, help='Name to csv file')\n",
    "    parser.add_argument('url', type=str, help='url of the page')\n",
    "    args = parser.parse_args()\n",
    "    url = args.url\n",
    "    name = args.name\n",
    "    filename = name+'.csv'\n",
    "    soup = prepare_soup(url)\n",
    "    main_table = soup.find('table')\n",
    "    write_table(main_table, filename, 'w+')"
   ]
  },
  {
   "cell_type": "code",
   "execution_count": 7,
   "metadata": {
    "scrolled": false
   },
   "outputs": [],
   "source": [
    "head_url = 'http://www.governotransparente.com.br'\n",
    "empenho = []\n",
    "documento = []\n",
    "links = main_table.find_all('a')\n",
    "for link in links:\n",
    "    category = link['href'].split('/')[3]\n",
    "    if category == 'detalharempenhoportal':\n",
    "        empenho.append((link.text, head_url + link['href']))\n",
    "    else:\n",
    "        documento.append((link.text, head_url+link['href']))"
   ]
  },
  {
   "cell_type": "markdown",
   "metadata": {},
   "source": [
    "# emp"
   ]
  },
  {
   "cell_type": "code",
   "execution_count": 8,
   "metadata": {},
   "outputs": [],
   "source": [
    "def write_inner_table(table, writer,val, url):\n",
    "    table = container.find('table')\n",
    "    for tr in table.findAll('tr')[1:]:\n",
    "        row  = []\n",
    "        for data in tr.findAll(['td']):\n",
    "            row.append(data.get_text())\n",
    "        writer.writerow([val, url] + row)\n",
    "        "
   ]
  },
  {
   "cell_type": "code",
   "execution_count": 9,
   "metadata": {},
   "outputs": [],
   "source": [
    "def thread_request(x):\n",
    "    val, url = x\n",
    "    response = requests.get(url)\n",
    "    return (val, url, response)"
   ]
  },
  {
   "cell_type": "code",
   "execution_count": 10,
   "metadata": {},
   "outputs": [],
   "source": [
    "def concurrent_response(arr):\n",
    "    POOL_SIZE = 4\n",
    "    with concurrent.futures.ThreadPoolExecutor(max_workers=POOL_SIZE) as executor:\n",
    "        response_arr = executor.map(thread_request, [x for x in arr[:3]])#######################\n",
    "    response_arr = list(response_arr)\n",
    "    return response_arr"
   ]
  },
  {
   "cell_type": "code",
   "execution_count": 11,
   "metadata": {},
   "outputs": [],
   "source": [
    "def create_files_empheno(name):\n",
    "    extras = [\"Cell value\", \"Link\"]\n",
    "    f1 = open(f'{name}.empheno.Destalhes do empenho.csv', \"w+\", encoding='utf-8')\n",
    "    writer1 = csv.writer(f1)\n",
    "    writer1.writerow(extras + [\"List items\"])\n",
    "    f2 = open(f'{name}.empheno.Movimentos do empenho.csv', \"w+\", encoding='utf-8')\n",
    "    writer2 = csv.writer(f2)\n",
    "    writer2.writerow(extras + ['Documento', 'Data', 'Tipo', 'Registro', 'Valor (R$)'])\n",
    "    return f1, f2, writer1, writer2\n",
    "response_arr = concurrent_response(empenho)"
   ]
  },
  {
   "cell_type": "code",
   "execution_count": 14,
   "metadata": {},
   "outputs": [],
   "source": [
    "f1, f2, w1, w2 = create_files_empheno(name)\n",
    "for val, url, response in response_arr:\n",
    "    soup = BeautifulSoup(response.text, \"html.parser\")\n",
    "    container = soup.find_all('div', class_='row clearfix')[1]\n",
    "    ul = container.find('ul')\n",
    "    write_list(ul, w1, val, url)\n",
    "    table = container.find('table')\n",
    "    write_inner_table(table, w2, val, url)\n",
    "f1.close()\n",
    "f2.close()"
   ]
  },
  {
   "cell_type": "code",
   "execution_count": 15,
   "metadata": {},
   "outputs": [],
   "source": [
    "def create_files_documento(name):\n",
    "    extras = [\"Cell value\", \"Link\"]\n",
    "    f1 = open(f'{name}.documento.Dados da liquidação.csv', \"w+\", encoding='utf-8')\n",
    "    w1 = csv.writer(f1)\n",
    "    w1.writerow(extras + [\"List items\"])\n",
    "    f2 = open(f'{name}.documento.Dados do pagamento do empenho.csv', \"w+\", encoding='utf-8')\n",
    "    w2 = csv.writer(f2)\n",
    "    w2.writerow(extras + [\"Tipo\", \"Forma\", \"Valor\", \"Documento\", \"Banco\", \"Nome da agência\", \"Número da agência\", \"Conta corrente\"])\n",
    "    f3 = open(f'{name}.documento.Dados do empenho.csv', \"w+\", encoding='utf-8')\n",
    "    w3 = csv.writer(f3)\n",
    "    w3.writerow(extras + [\"List items\"])\n",
    "    f4 = open(f'{name}.documento.Movimentos do empenho.csv', \"w+\", encoding='utf-8')\n",
    "    w4 = csv.writer(f4)\n",
    "    w4.writerow(extras + ['Documento', 'Data', 'Tipo', 'Registro', 'Valor (R$)'])\n",
    "    return [f1, f2, f3, f4], w1, w2, w3, w4\n",
    "response_arr = concurrent_response(documento)"
   ]
  },
  {
   "cell_type": "code",
   "execution_count": 16,
   "metadata": {},
   "outputs": [],
   "source": [
    "f, w1, w2, w3, w4 = create_files_documento(name)\n",
    "for val, url, response in response_arr:\n",
    "    soup = BeautifulSoup(response.text, \"html.parser\")\n",
    "    container = soup.find_all('div', class_='row clearfix')[1]\n",
    "    ul1 = container.find_all('ul')[0]\n",
    "    ul2 = container.find_all('ul')[1]\n",
    "    table1 = container.find_all('table')[0]\n",
    "    table2 = container.find_all('table')[1]\n",
    "    write_list(ul1, w1, val, url)\n",
    "    write_inner_table(table1, w2, val, url)\n",
    "    write_list(ul2, w3, val, url)\n",
    "    write_inner_table(table2, w4, val, url)\n",
    "for file in f:\n",
    "    file.close()"
   ]
  },
  {
   "cell_type": "code",
   "execution_count": 14,
   "metadata": {},
   "outputs": [
    {
     "name": "stdout",
     "output_type": "stream",
     "text": [
      "200\n"
     ]
    }
   ],
   "source": [
    "import requests\n",
    "response = requests.get('http://www.goog.com', headers = {'User-Agent': 'Mozilla/5.0 (X11; Ubuntu; Linux x86_64; rv:52.0) Gecko/20100101 Firefox/52.0'})\n",
    "print(response.status_code)"
   ]
  }
 ],
 "metadata": {
  "kernelspec": {
   "display_name": "Python 3",
   "language": "python",
   "name": "python3"
  },
  "language_info": {
   "codemirror_mode": {
    "name": "ipython",
    "version": 3
   },
   "file_extension": ".py",
   "mimetype": "text/x-python",
   "name": "python",
   "nbconvert_exporter": "python",
   "pygments_lexer": "ipython3",
   "version": "3.8.5"
  }
 },
 "nbformat": 4,
 "nbformat_minor": 4
}
